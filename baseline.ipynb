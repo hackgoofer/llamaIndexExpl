{
 "cells": [
  {
   "cell_type": "code",
   "execution_count": 1,
   "metadata": {},
   "outputs": [],
   "source": [
    "import nest_asyncio\n",
    "\n",
    "nest_asyncio.apply()"
   ]
  },
  {
   "cell_type": "code",
   "execution_count": 2,
   "metadata": {},
   "outputs": [],
   "source": [
    "from pathlib import Path\n",
    "import requests\n",
    "from llama_index import SimpleDirectoryReader\n",
    "\n",
    "wiki_titles = [\n",
    "    \"Toronto\",\n",
    "    \"Seattle\",\n",
    "    \"Chicago\",\n",
    "    \"Boston\",\n",
    "    \"Houston\",\n",
    "    \"Tokyo\",\n",
    "    \"Berlin\",\n",
    "    \"Lisbon\",\n",
    "    \"Paris\",\n",
    "    \"London\",\n",
    "    \"Atlanta\",\n",
    "    \"Munich\",\n",
    "    \"Shanghai\",\n",
    "    \"Beijing\",\n",
    "    \"Copenhagen\",\n",
    "    \"Moscow\",\n",
    "    \"Cairo\",\n",
    "    \"Karachi\",\n",
    "]\n",
    "\n",
    "for title in wiki_titles:\n",
    "    response = requests.get(\n",
    "        \"https://en.wikipedia.org/w/api.php\",\n",
    "        params={\n",
    "            \"action\": \"query\",\n",
    "            \"format\": \"json\",\n",
    "            \"titles\": title,\n",
    "            \"prop\": \"extracts\",\n",
    "            # 'exintro': True,\n",
    "            \"explaintext\": True,\n",
    "        },\n",
    "    ).json()\n",
    "    page = next(iter(response[\"query\"][\"pages\"].values()))\n",
    "    wiki_text = page[\"extract\"]\n",
    "\n",
    "    data_path = Path(\"data\")\n",
    "    if not data_path.exists():\n",
    "        Path.mkdir(data_path)\n",
    "\n",
    "    with open(data_path / f\"{title}.txt\", \"w\") as fp:\n",
    "        fp.write(wiki_text)\n",
    "\n",
    "# Load all wiki documents\n",
    "city_docs = {}\n",
    "for wiki_title in wiki_titles:\n",
    "    docs = SimpleDirectoryReader(input_files=[f\"data/{wiki_title}.txt\"]).load_data()\n",
    "    desc = f\"This is a Wikipedia article about the city of {wiki_title}\"\n",
    "    city_docs[wiki_title] = (wiki_title, desc, docs[0])"
   ]
  },
  {
   "cell_type": "markdown",
   "metadata": {},
   "source": [
    "### Download and Initialize Pack"
   ]
  },
  {
   "cell_type": "code",
   "execution_count": 3,
   "metadata": {},
   "outputs": [],
   "source": [
    "from llama_index.llama_pack import download_llama_pack\n",
    "\n",
    "MultiDocumentAgentsPack = download_llama_pack(\n",
    "    \"MultiDocumentAgentsPack\",\n",
    "    \"./multi_doc_agents_pack\",\n",
    "    # leave the below commented out (was for testing purposes)\n",
    "    # llama_hub_url=\"https://raw.githubusercontent.com/run-llama/llama-hub/jerry/add_llama_packs/llama_hub\",\n",
    ")"
   ]
  },
  {
   "cell_type": "code",
   "execution_count": 6,
   "metadata": {},
   "outputs": [],
   "source": [
    "city_tups = list(city_docs.values())\n",
    "multi_doc_agents_pack = MultiDocumentAgentsPack(\n",
    "    [t[2] for t in city_tups], [t[0] for t in city_tups], [t[1] for t in city_tups]\n",
    ")"
   ]
  },
  {
   "cell_type": "markdown",
   "metadata": {},
   "source": [
    "### Run Pack"
   ]
  },
  {
   "cell_type": "code",
   "execution_count": 7,
   "metadata": {},
   "outputs": [
    {
     "name": "stdout",
     "output_type": "stream",
     "text": [
      "STARTING TURN 1\n",
      "---------------\n",
      "\n",
      "=== Calling Function ===\n",
      "Calling function: tool_Houston with args: {\n",
      "  \"input\": \"demographics\"\n",
      "}\n",
      "Added user message to memory: demographics\n",
      "=== Calling Function ===\n",
      "Calling function: vector_tool with args: {\n",
      "  \"input\": \"demographics\"\n",
      "}\n",
      "Got output: Houston has a population of 2,304,580 according to the 2020 U.S. census. In 2017, the estimated population was 2,312,717, and in 2018 it was 2,325,502. The city has a diverse demographic makeup, with a significant number of undocumented immigrants residing in the Houston area, comprising nearly 9% of the city's metropolitan population in 2017. The age distribution in Houston includes a significant number of individuals under 15 and between the ages of 20 to 34. The median age of the city is 33.4. The city has a mix of homeowners and renters, with an estimated 42.3% of Houstonians owning housing units. The median household income in 2019 was $52,338, and 20.1% of Houstonians lived at or below the poverty line.\n",
      "========================\n",
      "\n",
      "Got output: Houston, as of the 2020 U.S. census, has a population of 2,304,580. The city is known for its diverse demographic makeup, with a significant number of undocumented immigrants, who made up nearly 9% of the city's metropolitan population in 2017. The age distribution in Houston is quite varied, with a large number of individuals under 15 and between the ages of 20 to 34. The median age is 33.4. \n",
      "\n",
      "In terms of housing, the city is split between homeowners and renters, with about 42.3% of Houstonians owning their housing units. The median household income in 2019 was $52,338, but it's important to note that 20.1% of Houstonians lived at or below the poverty line.\n",
      "========================\n",
      "\n",
      "STARTING TURN 2\n",
      "---------------\n",
      "\n",
      "=== Calling Function ===\n",
      "Calling function: tool_Chicago with args: {\n",
      "  \"input\": \"demographics\"\n",
      "}\n",
      "Added user message to memory: demographics\n",
      "=== Calling Function ===\n",
      "Calling function: vector_tool with args: {\n",
      "  \"input\": \"demographics\"\n",
      "}\n",
      "Got output: Chicago experienced rapid population growth during its early years, becoming one of the fastest-growing cities in the world. From its founding in 1833 with fewer than 200 people, the population grew to over 4,000 within seven years. By 1890, the population had surpassed 1 million, making Chicago the fifth-largest city in the world at the time. The city's population continued to grow, reaching its highest recorded population of 3.6 million in 1950. \n",
      "\n",
      "During the late 19th century, Chicago attracted waves of immigrants from various parts of Europe, including Ireland, Southern, Central, and Eastern Europe. African Americans from the American South also migrated to Chicago during this time, with the black population doubling between 1910 and 1920 and doubling again between 1920 and 1930. Chicago's population declined in the latter half of the 20th century, but it has seen a rise in population since the 2000 census.\n",
      "\n",
      "As of July 2019, the largest racial or ethnic groups in Chicago are non-Hispanic White (32.8% of the population), Blacks (30.1%), and Hispanics (29.0%). Chicago also has a significant LGBT population, ranking third in the United States. The city has a diverse population with various ancestral groups represented, including Germans, Irish, Poles, Swedes, and Czechs.\n",
      "========================\n",
      "\n",
      "Got output: Chicago has a diverse demographic makeup. The city experienced rapid growth in its early years, with the population growing from fewer than 200 people in 1833 to over 4,000 within seven years. By 1890, the population had surpassed 1 million, making Chicago the fifth-largest city in the world at the time. The city's population continued to grow, reaching its highest recorded population of 3.6 million in 1950. \n",
      "\n",
      "Chicago attracted waves of immigrants from various parts of Europe, including Ireland, Southern, Central, and Eastern Europe, during the late 19th century. African Americans from the American South also migrated to Chicago during this time, with the black population doubling between 1910 and 1920 and doubling again between 1920 and 1930. \n",
      "\n",
      "As of July 2019, the largest racial or ethnic groups in Chicago are non-Hispanic White (32.8% of the population), Blacks (30.1%), and Hispanics (29.0%). The city also has a significant LGBT population, ranking third in the United States. Various ancestral groups are represented in Chicago, including Germans, Irish, Poles, Swedes, and Czechs.\n",
      "========================\n",
      "\n",
      "STARTING TURN 3\n",
      "---------------\n",
      "\n"
     ]
    }
   ],
   "source": [
    "# this will run the full pack\n",
    "response = multi_doc_agents_pack.run(\n",
    "    \"Tell me the demographics of Houston, and then compare with the demographics of Chicago\"\n",
    ")\n"
   ]
  },
  {
   "cell_type": "code",
   "execution_count": 8,
   "metadata": {},
   "outputs": [
    {
     "name": "stdout",
     "output_type": "stream",
     "text": [
      "Houston has a larger population compared to Chicago. As of 2020, Houston has a population of 2,304,580, while Chicago's population is around 2.7 million. \n",
      "\n",
      "Both cities have diverse demographics, but the specific racial and ethnic makeup differs. In Houston, there is a significant number of undocumented immigrants, making up nearly 9% of the metropolitan population. The city has a diverse population with a mix of different racial and ethnic groups.\n",
      "\n",
      "In Chicago, the largest racial or ethnic groups are non-Hispanic White (32.8% of the population), Blacks (30.1%), and Hispanics (29.0%). The city has a rich history of immigration, with various ancestral groups represented.\n",
      "\n",
      "It's important to note that demographics can change over time, and these figures are based on the available data.\n"
     ]
    }
   ],
   "source": [
    "print(str(response))\n"
   ]
  },
  {
   "cell_type": "code",
   "execution_count": 9,
   "metadata": {},
   "outputs": [
    {
     "data": {
      "text/plain": [
       "[NodeWithScore(node=TextNode(id_='f245a0d1-d6ef-4106-9d84-60f320829f7c', embedding=None, metadata={'file_path': 'data/Houston.txt', 'file_name': 'Houston.txt', 'file_type': 'text/plain', 'file_size': 85409, 'creation_date': '2024-01-11', 'last_modified_date': '2024-01-11', 'last_accessed_date': '2024-01-11'}, excluded_embed_metadata_keys=['file_name', 'file_type', 'file_size', 'creation_date', 'last_modified_date', 'last_accessed_date'], excluded_llm_metadata_keys=['file_name', 'file_type', 'file_size', 'creation_date', 'last_modified_date', 'last_accessed_date'], relationships={<NodeRelationship.SOURCE: '1'>: RelatedNodeInfo(node_id='577cbc95-673d-4ecb-be7c-44b40cbb02e1', node_type=<ObjectType.DOCUMENT: '4'>, metadata={'file_path': 'data/Houston.txt', 'file_name': 'Houston.txt', 'file_type': 'text/plain', 'file_size': 85409, 'creation_date': '2024-01-11', 'last_modified_date': '2024-01-11', 'last_accessed_date': '2024-01-11'}, hash='7c6ad1de26343a723434da15a2e91b621e943f02d97de77114cc26ac60c3e406'), <NodeRelationship.PREVIOUS: '2'>: RelatedNodeInfo(node_id='462defb5-629f-4014-8088-db6ef44c9451', node_type=<ObjectType.TEXT: '1'>, metadata={'file_path': 'data/Houston.txt', 'file_name': 'Houston.txt', 'file_type': 'text/plain', 'file_size': 85409, 'creation_date': '2024-01-11', 'last_modified_date': '2024-01-11', 'last_accessed_date': '2024-01-11'}, hash='08080399b0a21036bfae55c94ace08570dee4414ea533d42fa4074046cf1a72b'), <NodeRelationship.NEXT: '3'>: RelatedNodeInfo(node_id='4d16a2be-1fa5-45e7-a38a-cb87a1dad1da', node_type=<ObjectType.TEXT: '1'>, metadata={}, hash='cb9bf11ce7ee156d9b299bfa6cb4e926bd0b07864ffc353dd8d0ac8edbc71514')}, hash='13ad956f65edc7aab14243d89dcc02c80c92c276f0acbe6ed77d5ff9d496a57d', text='=== Race and ethnicity ===\\nHouston is a majority-minority city. The Rice University Kinder Institute for Urban Research, a think tank, has described Greater Houston as \"one of the most ethnically and culturally diverse metropolitan areas in the country\". Houston\\'s diversity, historically fueled by large waves of Hispanic and Latino American, and Asian immigrants, has been attributed to its relatively lower cost of living compared to most major cities, strong job market, and role as a hub for refugee resettlement.Houston has long been known as a popular destination for African Americans due to the city\\'s well-established and influential African American community. Houston has become known as a Black mecca akin to Atlanta because it is a popular living destination for Black professionals and entrepreneurs. The Houston area is home to the largest African American community west of the Mississippi River. A 2012 Kinder Institute report found that, based on the evenness of population distribution between the four major racial groups in the United States (non-Hispanic white, non-Hispanic black, Hispanic or Latino, and Asian), Greater Houston was the most ethnically diverse metropolitan area in the United States, ahead of New York City.In 2019, according to the U.S. Census Bureau, non-Hispanic whites made up 23.3% of the population of Houston proper, Hispanics and Latino Americans 45.8%, Blacks or African Americans 22.4%, and Asian Americans 6.5%. In 2018, non-Hispanic whites made up 20.7% of the population, Hispanics or Latino Americans 44.9%, Blacks or African Americans 30.3%, and Asian Americans 8.2%. The largest Hispanic or Latino American ethnic groups in the city were Mexican Americans (31.6%), Puerto Ricans (0.8%), and Cuban Americans (0.8%) in 2018.As documented, Houston has a higher proportion of minorities than non-Hispanic whites; in 2010, whites (including Hispanic whites) made up 57.6% of the city of Houston\\'s population; 24.6% of the total population was non-Hispanic white. Blacks or African Americans made up 22.5% of Houston\\'s population, American Indians made up 0.3% of the population, Asians made up 6.9% (1.7% Vietnamese, 1.3% Chinese, 1.3% Indian, 0.9% Pakistani, 0.4% Filipino, 0.3% Korean, 0.1% Japanese) and Pacific Islanders made up 0.1%. Individuals from some other race made up 15.69% of the city\\'s population. Individuals from two or more races made up 2.1% of the city.At the 2000 U.S. census, the racial makeup of the city was 49.3% White, 25.3% Black or African American, 5.3% Asian, 0.7% American Indian, 0.1% Pacific Islander, 16.5% from some other race, and 3.1% from two or more races. In addition, Hispanics and Latinos of any race made up 37.4% of Houston\\'s population in 2000, while non-Hispanic whites made up 30.8%. The proportion of non-Hispanic whites in Houston has decreased significantly since 1970, when it was 62.4%.', start_char_idx=30654, end_char_idx=33544, text_template='{metadata_str}\\n\\n{content}', metadata_template='{key}: {value}', metadata_seperator='\\n'), score=0.7921463908934682),\n",
       " NodeWithScore(node=TextNode(id_='462defb5-629f-4014-8088-db6ef44c9451', embedding=None, metadata={'file_path': 'data/Houston.txt', 'file_name': 'Houston.txt', 'file_type': 'text/plain', 'file_size': 85409, 'creation_date': '2024-01-11', 'last_modified_date': '2024-01-11', 'last_accessed_date': '2024-01-11'}, excluded_embed_metadata_keys=['file_name', 'file_type', 'file_size', 'creation_date', 'last_modified_date', 'last_accessed_date'], excluded_llm_metadata_keys=['file_name', 'file_type', 'file_size', 'creation_date', 'last_modified_date', 'last_accessed_date'], relationships={<NodeRelationship.SOURCE: '1'>: RelatedNodeInfo(node_id='577cbc95-673d-4ecb-be7c-44b40cbb02e1', node_type=<ObjectType.DOCUMENT: '4'>, metadata={'file_path': 'data/Houston.txt', 'file_name': 'Houston.txt', 'file_type': 'text/plain', 'file_size': 85409, 'creation_date': '2024-01-11', 'last_modified_date': '2024-01-11', 'last_accessed_date': '2024-01-11'}, hash='7c6ad1de26343a723434da15a2e91b621e943f02d97de77114cc26ac60c3e406'), <NodeRelationship.PREVIOUS: '2'>: RelatedNodeInfo(node_id='cb54599f-dfaf-460e-a08d-d1b7331504df', node_type=<ObjectType.TEXT: '1'>, metadata={'file_path': 'data/Houston.txt', 'file_name': 'Houston.txt', 'file_type': 'text/plain', 'file_size': 85409, 'creation_date': '2024-01-11', 'last_modified_date': '2024-01-11', 'last_accessed_date': '2024-01-11'}, hash='6d039b79d15718407569ae9f90b69b1f8d6422e1f3ddd37be95f3590213c7340'), <NodeRelationship.NEXT: '3'>: RelatedNodeInfo(node_id='f245a0d1-d6ef-4106-9d84-60f320829f7c', node_type=<ObjectType.TEXT: '1'>, metadata={}, hash='fa3b0f22d322a422b556ef7b9941d325fc0034b94c593f62e48f6b5633b2aa16')}, hash='665431e06ed94e63bf29390089e77364b52addd1551d8e14b0d3b22dd479f0e6', text='Such an increase, often regarded as \"CO2 urban dome\", is driven by a combination of strong emissions and stagnant atmospheric conditions. Moreover, Houston is the only metropolitan area with less than ten million citizens where such a CO2 dome can be detected by satellites.\\n\\nBecause of Houston\\'s wet season and proximity to the Gulf Coast, the city is prone to flooding from heavy rains; the most notable flooding events include Tropical Storm Allison in 2001 and Hurricane Harvey in 2017, along with most recent Tropical Storm Imelda in 2019 and Tropical Storm Beta in 2020. In response to Hurricane Harvey, Mayor Sylvester Turner of Houston initiated plans to require developers to build homes that will be less susceptible to flooding by raising them two feet above the 500-year floodplain. Hurricane Harvey damaged hundreds of thousands of homes and dumped trillions of gallons of water into the city. In places this led to feet of standing water that blocked streets and flooded homes. The Houston City Council passed this regulation in 2018 with a vote of 9–7. Had these floodplain development rules had been in place all along, it is estimated that 84% of homes in the 100-year and 500-year floodplains would have been spared damage.In a recent case testing these regulations, near the Brickhouse Gulley, an old golf course that long served as a floodplain and reservoir for floodwaters, announced a change of heart toward intensifying development. A nationwide developer, Meritage Homes, bought the land and planned to develop the 500-year floodplain into 900 new residential homes. Their plan would bring in $360 million in revenue and boost city population and tax revenue. In order to meet the new floodplain regulations, the developers needed to elevate the lowest floors two feet above the 500-year floodplain, equivalent to five or six feet above the 100-year base flood elevation, and build a channel to direct stormwater runoff toward detention basins. Before Hurricane Harvey, the city had bought $10.7 million in houses in this area specifically to take them out of danger. In addition to developing new streets and single-family housing within a floodplain, a flowing flood-water stream termed a floodway runs through the development area, a most dangerous place to encounter during any future flooding event. Under Texas law Harris County, like other more rural Texas counties, cannot direct developers where to build or not build via land use controls such as a zoning ordinance, and instead can only impose general floodplain regulations for enforcement during subdivision approvals and building permit approvals.\\n\\n\\n== Demographics ==\\n\\nThe 2020 U.S. census determined Houston had a population of 2,304,580. In 2017, the census-estimated population was 2,312,717, and in 2018 it was 2,325,502. An estimated 600,000 undocumented immigrants resided in the Houston area in 2017, comprising nearly 9% of the city\\'s metropolitan population. At the 2010 United States census, Houston had a population of 2,100,263 residents, up from the city\\'s 2,396 at the 1850 census.\\nPer the 2019 American Community Survey, Houston\\'s age distribution was 482,402 under 15; 144,196 aged 15 to 19; 594,477 aged 20 to 34; 591,561 aged 35 to 54; 402,804 aged 55 to 74; and 101,357 aged 75 and older. The median age of the city was 33.4. At the 2014-2018 census estimates, Houston\\'s age distribution was 486,083 under 15; 147,710 aged 15 to 19; 603,586 aged 20 to 34; 726,877 aged 35 to 59; and 357,834 aged 60 and older. The median age was 33.1, up from 32.9 in 2017 and down from 33.5 in 2014; the city\\'s youthfulness has been attributed to an influx of an African American New Great Migration, Hispanic and Latino American, and Asian immigrants into Texas. For every 100 females, there were 98.5 males.There were 987,158 housing units in 2019 and 876,504 households. An estimated 42.3% of Houstonians owned housing units, with an average of 2.65 people per household. The median monthly owner costs with a mortgage were $1,646, and $536 without a mortgage. Houston\\'s median gross rent from 2015 to 2019 was $1,041. The median household income in 2019 was $52,338 and 20.1% of Houstonians lived at or below the poverty line.', start_char_idx=26428, end_char_idx=30651, text_template='{metadata_str}\\n\\n{content}', metadata_template='{key}: {value}', metadata_seperator='\\n'), score=0.7791030052701234),\n",
       " NodeWithScore(node=TextNode(id_='21e8ae76-0c0c-4d47-a309-837c07584936', embedding=None, metadata={'file_path': 'data/Chicago.txt', 'file_name': 'Chicago.txt', 'file_type': 'text/plain', 'file_size': 84577, 'creation_date': '2024-01-11', 'last_modified_date': '2024-01-11', 'last_accessed_date': '2024-01-11'}, excluded_embed_metadata_keys=['file_name', 'file_type', 'file_size', 'creation_date', 'last_modified_date', 'last_accessed_date'], excluded_llm_metadata_keys=['file_name', 'file_type', 'file_size', 'creation_date', 'last_modified_date', 'last_accessed_date'], relationships={<NodeRelationship.SOURCE: '1'>: RelatedNodeInfo(node_id='4430841f-e4b2-4b5c-98ac-a9c86954e1c5', node_type=<ObjectType.DOCUMENT: '4'>, metadata={'file_path': 'data/Chicago.txt', 'file_name': 'Chicago.txt', 'file_type': 'text/plain', 'file_size': 84577, 'creation_date': '2024-01-11', 'last_modified_date': '2024-01-11', 'last_accessed_date': '2024-01-11'}, hash='35067e7125a0229a2b866ea2f61218f7e6eb83f852bdc2a2cb11585051855aab'), <NodeRelationship.PREVIOUS: '2'>: RelatedNodeInfo(node_id='86ac4c1d-5643-4c34-b5af-0c7fb5f0a39e', node_type=<ObjectType.TEXT: '1'>, metadata={'file_path': 'data/Chicago.txt', 'file_name': 'Chicago.txt', 'file_type': 'text/plain', 'file_size': 84577, 'creation_date': '2024-01-11', 'last_modified_date': '2024-01-11', 'last_accessed_date': '2024-01-11'}, hash='94ecc85187afc8053f0b15bfc9d689906ec1859ded4f94663a20a0057c0418dd'), <NodeRelationship.NEXT: '3'>: RelatedNodeInfo(node_id='29ea0eb1-3c3d-4559-b2fc-018c8108e919', node_type=<ObjectType.TEXT: '1'>, metadata={}, hash='ba294faf399c982bd215cfcaf4bf67ad923d2ddac2a22a28592572f08d546e75')}, hash='633bd116bdc0091b7a562c194f4929b6343ec96d5920eca21291f9af039f49ae', text='=== Time zone ===\\nAs in the rest of the state of Illinois, Chicago forms part of the Central Time Zone. The border with the Eastern Time Zone is located a short distance to the east, used in Michigan and certain parts of Indiana.\\n\\n\\n== Demographics ==\\n\\nDuring its first hundred years, Chicago was one of the fastest-growing cities in the world. When founded in 1833, fewer than 200 people had settled on what was then the American frontier. By the time of its first census, seven years later, the population had reached over 4,000. In the forty years from 1850 to 1890, the city\\'s population grew from slightly under 30,000 to over 1 million. At the end of the 19th century, Chicago was the fifth-largest city in the world, and the largest of the cities that did not exist at the dawn of the century. Within sixty years of the Great Chicago Fire of 1871, the population went from about 300,000 to over 3 million, and reached its highest ever recorded population of 3.6 million for the 1950 census.\\nFrom the last two decades of the 19th century, Chicago was the destination of waves of immigrants from Ireland, Southern, Central and Eastern Europe, including Italians, Jews, Russians, Poles, Greeks, Lithuanians, Bulgarians, Albanians, Romanians, Turkish, Croatians, Serbs, Bosnians, Montenegrins and Czechs. To these ethnic groups, the basis of the city\\'s industrial working class, were added an additional influx of African Americans from the American South—with Chicago\\'s black population doubling between 1910 and 1920 and doubling again between 1920 and 1930. Chicago has a significant Bosnian population, many of whom arrived in the 1990s and 2000s.In the 1920s and 1930s, the great majority of African Americans moving to Chicago settled in a so‑called \"Black Belt\" on the city\\'s South Side. A large number of blacks also settled on the West Side. By 1930, two-thirds of Chicago\\'s black population lived in sections of the city which were 90% black in racial composition. Around that time, a lesser known fact about African Americans on the North Side is that the block of 4600 Winthrop Avenue in Uptown was the only block African Americans could live or open establishments. Chicago\\'s South Side emerged as United States second-largest urban black concentration, following New York\\'s Harlem. In 1990, Chicago\\'s South Side and the adjoining south suburbs constituted the largest black majority region in the entire United States.Most of Chicago\\'s foreign-born population were born in Mexico, Poland and India.Chicago\\'s population declined in the latter half of the 20th century, from over 3.6 million in 1950 down to under 2.7 million by 2010. By the time of the official census count in 1990, it was overtaken by Los Angeles as the United States\\' second largest city.The city has seen a rise in population for the 2000 census and after a decrease in 2010, it rose again for the 2020 census.According to U.S. census estimates as of July 2019, Chicago\\'s largest racial or ethnic group is non-Hispanic White at 32.8% of the population, Blacks at 30.1% and the Hispanic population at 29.0% of the population.\\nChicago has the third-largest LGBT population in the United States. In 2018, the Chicago Department of Health, estimated 7.5% of the adult population, approximately 146,000 Chicagoans, were LGBTQ. In 2015, roughly 4% of the population identified as LGBT. Since the 2013 legalization of same-sex marriage in Illinois, over 10,000 same-sex couples have wed in Cook County, a majority of them in Chicago.Chicago became a \"de jure\" sanctuary city in 2012 when Mayor Rahm Emanuel and the City Council passed the Welcoming City Ordinance.According to the U.S. Census Bureau\\'s American Community Survey data estimates for 2008–2012, the median income for a household in the city was $47,408, and the median income for a family was $54,188. Male full-time workers had a median income of $47,074 versus $42,063 for females. About 18.3% of families and 22.1% of the population lived below the poverty line. In 2018, Chicago ranked seventh globally for the highest number of ultra-high-net-worth residents with roughly 3,300 residents worth more than $30 million.According to the 2008–2012 American Community Survey, the ancestral groups having 10,000 or more persons in Chicago were:\\n\\nPersons identifying themselves in \"Other groups\" were classified at 1.72 million, and unclassified or not reported were approximately 153,000.', start_char_idx=29093, end_char_idx=33521, text_template='{metadata_str}\\n\\n{content}', metadata_template='{key}: {value}', metadata_seperator='\\n'), score=0.7759061439032984),\n",
       " NodeWithScore(node=TextNode(id_='3be46192-aa9b-48ac-b96b-a132c6e4678e', embedding=None, metadata={'file_path': 'data/Chicago.txt', 'file_name': 'Chicago.txt', 'file_type': 'text/plain', 'file_size': 84577, 'creation_date': '2024-01-11', 'last_modified_date': '2024-01-11', 'last_accessed_date': '2024-01-11'}, excluded_embed_metadata_keys=['file_name', 'file_type', 'file_size', 'creation_date', 'last_modified_date', 'last_accessed_date'], excluded_llm_metadata_keys=['file_name', 'file_type', 'file_size', 'creation_date', 'last_modified_date', 'last_accessed_date'], relationships={<NodeRelationship.SOURCE: '1'>: RelatedNodeInfo(node_id='4430841f-e4b2-4b5c-98ac-a9c86954e1c5', node_type=<ObjectType.DOCUMENT: '4'>, metadata={'file_path': 'data/Chicago.txt', 'file_name': 'Chicago.txt', 'file_type': 'text/plain', 'file_size': 84577, 'creation_date': '2024-01-11', 'last_modified_date': '2024-01-11', 'last_accessed_date': '2024-01-11'}, hash='35067e7125a0229a2b866ea2f61218f7e6eb83f852bdc2a2cb11585051855aab'), <NodeRelationship.PREVIOUS: '2'>: RelatedNodeInfo(node_id='b60872da-aa30-4bee-b36a-046e773966e4', node_type=<ObjectType.TEXT: '1'>, metadata={'file_path': 'data/Chicago.txt', 'file_name': 'Chicago.txt', 'file_type': 'text/plain', 'file_size': 84577, 'creation_date': '2024-01-11', 'last_modified_date': '2024-01-11', 'last_accessed_date': '2024-01-11'}, hash='3d59a6014cc932db3bce2bd42761d28c3ee83e0cde6c92ef8c85fd6d3d66d4be'), <NodeRelationship.NEXT: '3'>: RelatedNodeInfo(node_id='fb66bf87-1817-4f14-b044-05a239e86500', node_type=<ObjectType.TEXT: '1'>, metadata={}, hash='76f9ac13a095a6df2eee7831a64da4a0234d3a2a4c77dc92ac8222532910b3d4')}, hash='591df4638cf32e8636e4c6e9300a91bca8bf31a9430ae4aab1485505086bd9c1', text='Germans, Irish, Poles, Swedes, and Czechs made up nearly two-thirds of the foreign-born population (by 1900, whites were 98.1% of the city\\'s population).Labor conflicts followed the industrial boom and the rapid expansion of the labor pool, including the Haymarket affair on May 4, 1886, and in 1894 the Pullman Strike. Anarchist and socialist groups played prominent roles in creating very large and highly organized labor actions. Concern for social problems among Chicago\\'s immigrant poor led Jane Addams and Ellen Gates Starr to found Hull House in 1889. Programs that were developed there became a model for the new field of social work.During the 1870s and 1880s, Chicago attained national stature as the leader in the movement to improve public health. City laws and later, state laws that upgraded standards for the medical profession and fought urban epidemics of cholera, smallpox, and yellow fever were both passed and enforced. These laws became templates for public health reform in other cities and states.The city established many large, well-landscaped municipal parks, which also included public sanitation facilities. The chief advocate for improving public health in Chicago was John H. Rauch, M.D. Rauch established a plan for Chicago\\'s park system in 1866. He created Lincoln Park by closing a cemetery filled with shallow graves, and in 1867, in response to an outbreak of cholera he helped establish a new Chicago Board of Health. Ten years later, he became the secretary and then the president of the first Illinois State Board of Health, which carried out most of its activities in Chicago.In the 1800s, Chicago became the nation\\'s railroad hub, and by 1910 over 20 railroads operated passenger service out of six different downtown terminals. In 1883, Chicago\\'s railway managers needed a general time convention, so they developed the standardized system of North American time zones. This system for telling time spread throughout the continent.\\nIn 1893, Chicago hosted the World\\'s Columbian Exposition on former marshland at the present location of Jackson Park. The Exposition drew 27.5 million visitors, and is considered the most influential world\\'s fair in history. The University of Chicago, formerly at another location, moved to the same South Side location in 1892. The term \"midway\" for a fair or carnival referred originally to the Midway Plaisance, a strip of park land that still runs through the University of Chicago campus and connects the Washington and Jackson Parks.\\n\\n\\n=== 20th and 21st centuries ===', start_char_idx=8504, end_char_idx=11050, text_template='{metadata_str}\\n\\n{content}', metadata_template='{key}: {value}', metadata_seperator='\\n'), score=0.7654645340551711)]"
      ]
     },
     "execution_count": 9,
     "metadata": {},
     "output_type": "execute_result"
    }
   ],
   "source": [
    "response.source_nodes"
   ]
  },
  {
   "cell_type": "code",
   "execution_count": 10,
   "metadata": {},
   "outputs": [
    {
     "data": {
      "text/plain": [
       "{'top_agent': <llama_index.agent.legacy.retriever_openai_agent.FnRetrieverOpenAIAgent at 0x153ad7d50>,\n",
       " 'obj_index': <llama_index.objects.base.ObjectIndex at 0x153b14310>,\n",
       " 'doc_agents': {'Toronto': <llama_index.agent.openai.base.OpenAIAgent at 0x152182390>,\n",
       "  'Seattle': <llama_index.agent.openai.base.OpenAIAgent at 0x1525c7dd0>,\n",
       "  'Chicago': <llama_index.agent.openai.base.OpenAIAgent at 0x152726c50>,\n",
       "  'Boston': <llama_index.agent.openai.base.OpenAIAgent at 0x15286bdd0>,\n",
       "  'Houston': <llama_index.agent.openai.base.OpenAIAgent at 0x1529d3f90>,\n",
       "  'Tokyo': <llama_index.agent.openai.base.OpenAIAgent at 0x152a9da90>,\n",
       "  'Berlin': <llama_index.agent.openai.base.OpenAIAgent at 0x152bdbc90>,\n",
       "  'Lisbon': <llama_index.agent.openai.base.OpenAIAgent at 0x152cf8450>,\n",
       "  'Paris': <llama_index.agent.openai.base.OpenAIAgent at 0x152e9ba90>,\n",
       "  'London': <llama_index.agent.openai.base.OpenAIAgent at 0x153031650>,\n",
       "  'Atlanta': <llama_index.agent.openai.base.OpenAIAgent at 0x152aca8d0>,\n",
       "  'Munich': <llama_index.agent.openai.base.OpenAIAgent at 0x1532c1a10>,\n",
       "  'Shanghai': <llama_index.agent.openai.base.OpenAIAgent at 0x15340b4d0>,\n",
       "  'Beijing': <llama_index.agent.openai.base.OpenAIAgent at 0x15354f450>,\n",
       "  'Copenhagen': <llama_index.agent.openai.base.OpenAIAgent at 0x1536a8f10>,\n",
       "  'Moscow': <llama_index.agent.openai.base.OpenAIAgent at 0x15384c290>,\n",
       "  'Cairo': <llama_index.agent.openai.base.OpenAIAgent at 0x153976750>,\n",
       "  'Karachi': <llama_index.agent.openai.base.OpenAIAgent at 0x153adc550>}}"
      ]
     },
     "metadata": {},
     "output_type": "display_data"
    }
   ],
   "source": [
    "modules = multi_doc_agents_pack.get_modules()\n",
    "display(modules)"
   ]
  },
  {
   "cell_type": "markdown",
   "metadata": {},
   "source": []
  },
  {
   "cell_type": "code",
   "execution_count": 1,
   "metadata": {},
   "outputs": [
    {
     "name": "stdout",
     "output_type": "stream",
     "text": [
      "The LLM sees this: \n",
      " Metadata: category=>finance::author=>LlamaIndex\n",
      "-----\n",
      "Content: This is a super-customized document\n",
      "The Embedding model sees this: \n",
      " Metadata: file_name=>super_secret_document.txt::category=>finance::author=>LlamaIndex\n",
      "-----\n",
      "Content: This is a super-customized document\n"
     ]
    }
   ],
   "source": [
    "from llama_index import Document\n",
    "from llama_index.schema import MetadataMode\n",
    "\n",
    "document = Document(\n",
    "    text=\"This is a super-customized document\",\n",
    "    metadata={\n",
    "        \"file_name\": \"super_secret_document.txt\",\n",
    "        \"category\": \"finance\",\n",
    "        \"author\": \"LlamaIndex\",\n",
    "    },\n",
    "    excluded_llm_metadata_keys=[\"file_name\"],\n",
    "    metadata_seperator=\"::\",\n",
    "    metadata_template=\"{key}=>{value}\",\n",
    "    text_template=\"Metadata: {metadata_str}\\n-----\\nContent: {content}\",\n",
    ")\n",
    "\n",
    "print(\n",
    "    \"The LLM sees this: \\n\",\n",
    "    document.get_content(metadata_mode=MetadataMode.LLM),\n",
    ")\n",
    "print(\n",
    "    \"The Embedding model sees this: \\n\",\n",
    "    document.get_content(metadata_mode=MetadataMode.EMBED),\n",
    ")"
   ]
  },
  {
   "cell_type": "code",
   "execution_count": null,
   "metadata": {},
   "outputs": [],
   "source": []
  }
 ],
 "metadata": {
  "kernelspec": {
   "display_name": "llama",
   "language": "python",
   "name": "python3"
  },
  "language_info": {
   "codemirror_mode": {
    "name": "ipython",
    "version": 3
   },
   "file_extension": ".py",
   "mimetype": "text/x-python",
   "name": "python",
   "nbconvert_exporter": "python",
   "pygments_lexer": "ipython3",
   "version": "3.11.7"
  }
 },
 "nbformat": 4,
 "nbformat_minor": 2
}
