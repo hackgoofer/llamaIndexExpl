{
 "cells": [
  {
   "cell_type": "code",
   "execution_count": 1,
   "metadata": {},
   "outputs": [],
   "source": [
    "import nest_asyncio\n",
    "\n",
    "nest_asyncio.apply()\n",
    "\n",
    "import os\n",
    "import openai\n",
    "os.environ[\"OPENAI_API_KEY\"] = \"\"\n",
    "openai.api_key = os.environ[\"OPENAI_API_KEY\"]"
   ]
  },
  {
   "cell_type": "code",
   "execution_count": 2,
   "metadata": {},
   "outputs": [],
   "source": [
    "from llama_index import ServiceContext\n",
    "from llama_index.llms import OpenAI\n",
    "from llama_index.schema import MetadataMode"
   ]
  },
  {
   "cell_type": "code",
   "execution_count": 3,
   "metadata": {},
   "outputs": [],
   "source": [
    "llm = OpenAI(temperature=0.1, model=\"gpt-3.5-turbo\", max_tokens=512)\n"
   ]
  },
  {
   "cell_type": "code",
   "execution_count": 4,
   "metadata": {},
   "outputs": [],
   "source": [
    "from llama_index.extractors import (\n",
    "    SummaryExtractor,\n",
    "    QuestionsAnsweredExtractor,\n",
    "    TitleExtractor,\n",
    "    KeywordExtractor,\n",
    "    EntityExtractor,\n",
    "    BaseExtractor,\n",
    ")\n",
    "from llama_index.text_splitter import TokenTextSplitter\n",
    "\n",
    "text_splitter = TokenTextSplitter(\n",
    "    separator=\" \", chunk_size=512, chunk_overlap=128\n",
    ")\n",
    "\n",
    "\n",
    "class CustomExtractor(BaseExtractor):\n",
    "    def extract(self, nodes):\n",
    "        metadata_list = [\n",
    "            {\n",
    "                \"custom\": (\n",
    "                    node.metadata[\"document_title\"]\n",
    "                    + \"\\n\"\n",
    "                    + node.metadata[\"excerpt_keywords\"]\n",
    "                )\n",
    "            }\n",
    "            for node in nodes\n",
    "        ]\n",
    "        return metadata_list\n",
    "\n",
    "\n",
    "extractors = [\n",
    "    TitleExtractor(nodes=5, llm=llm),\n",
    "    QuestionsAnsweredExtractor(questions=3, llm=llm),\n",
    "    # EntityExtractor(prediction_threshold=0.5),\n",
    "    # SummaryExtractor(summaries=[\"prev\", \"self\"], llm=llm),\n",
    "    # KeywordExtractor(keywords=10, llm=llm),\n",
    "    # CustomExtractor()\n",
    "]\n",
    "\n",
    "transformations = [text_splitter] + extractors"
   ]
  },
  {
   "cell_type": "code",
   "execution_count": 5,
   "metadata": {},
   "outputs": [],
   "source": [
    "from llama_index import SimpleDirectoryReader\n"
   ]
  },
  {
   "cell_type": "code",
   "execution_count": 6,
   "metadata": {},
   "outputs": [
    {
     "name": "stdout",
     "output_type": "stream",
     "text": [
      "--2024-01-25 11:46:17--  https://www.dropbox.com/scl/fi/6dlqdk6e2k1mjhi8dee5j/uber.pdf?rlkey=2jyoe49bg2vwdlz30l76czq6g&dl=1\n",
      "Resolving www.dropbox.com (www.dropbox.com)... 162.125.13.18, 2620:100:6057:18::a27d:d12\n",
      "Connecting to www.dropbox.com (www.dropbox.com)|162.125.13.18|:443... connected.\n",
      "HTTP request sent, awaiting response... 302 Found\n",
      "Location: https://uc219789a86fee09b4a53fe8595a.dl.dropboxusercontent.com/cd/0/inline/CMC6JaAyXXJrvX1AFSvZebpmKoMTfMLsHil6IjvHVeWhfby_c4G-gycy30uM9Hoo4L8kkGMPo3B81Bto2xMWTxnOF8nqjRdOn1T-wE_FqjOVu197WWx5HXwJ6F-ASKn_Bws/file?dl=1# [following]\n",
      "--2024-01-25 11:46:18--  https://uc219789a86fee09b4a53fe8595a.dl.dropboxusercontent.com/cd/0/inline/CMC6JaAyXXJrvX1AFSvZebpmKoMTfMLsHil6IjvHVeWhfby_c4G-gycy30uM9Hoo4L8kkGMPo3B81Bto2xMWTxnOF8nqjRdOn1T-wE_FqjOVu197WWx5HXwJ6F-ASKn_Bws/file?dl=1\n",
      "Resolving uc219789a86fee09b4a53fe8595a.dl.dropboxusercontent.com (uc219789a86fee09b4a53fe8595a.dl.dropboxusercontent.com)... 162.125.13.15, 2620:100:6057:15::a27d:d0f\n",
      "Connecting to uc219789a86fee09b4a53fe8595a.dl.dropboxusercontent.com (uc219789a86fee09b4a53fe8595a.dl.dropboxusercontent.com)|162.125.13.15|:443... connected.\n",
      "HTTP request sent, awaiting response... 302 Found\n",
      "Location: /cd/0/inline2/CMDV0c6v-P5kWXNE1nRqYdZnnSfY23hBc6-o3hTmrpq1BEhJRr35u0bivZD8eqEbBrXyDry6R1aJR9KJSiFcpQKsvb-TIf-YUEhStvMryKuj6ZBk5C0XpnpnBygzEF9JIITfpMAGvJsrSHj8KKQ0Yx_muwnFgiH-yEr9OF97rXSYMaMjmg780HAXDcYHKaxvMMBrh-TPC48FnqEWiPzjrVQN4laUrSSK9iJZ95Www96R1ikuhMfOrwBKlrO6AQh11MiucZJMhEg0LEfWPBGs7UsW81aL4zrzNKSo5EuteX32MzuBY8NAhV6RD2HGqYyvR-aCQBOp_XV-bzUptzB39Gf8l6O148EUP5lq1oKpSXJvew/file?dl=1 [following]\n",
      "--2024-01-25 11:46:18--  https://uc219789a86fee09b4a53fe8595a.dl.dropboxusercontent.com/cd/0/inline2/CMDV0c6v-P5kWXNE1nRqYdZnnSfY23hBc6-o3hTmrpq1BEhJRr35u0bivZD8eqEbBrXyDry6R1aJR9KJSiFcpQKsvb-TIf-YUEhStvMryKuj6ZBk5C0XpnpnBygzEF9JIITfpMAGvJsrSHj8KKQ0Yx_muwnFgiH-yEr9OF97rXSYMaMjmg780HAXDcYHKaxvMMBrh-TPC48FnqEWiPzjrVQN4laUrSSK9iJZ95Www96R1ikuhMfOrwBKlrO6AQh11MiucZJMhEg0LEfWPBGs7UsW81aL4zrzNKSo5EuteX32MzuBY8NAhV6RD2HGqYyvR-aCQBOp_XV-bzUptzB39Gf8l6O148EUP5lq1oKpSXJvew/file?dl=1\n",
      "Reusing existing connection to uc219789a86fee09b4a53fe8595a.dl.dropboxusercontent.com:443.\n",
      "HTTP request sent, awaiting response... 200 OK\n",
      "Length: 2829436 (2.7M) [application/binary]\n",
      "Saving to: ‘data/10k-132.pdf’\n",
      "\n",
      "data/10k-132.pdf    100%[===================>]   2.70M  --.-KB/s    in 0.09s   \n",
      "\n",
      "2024-01-25 11:46:18 (29.8 MB/s) - ‘data/10k-132.pdf’ saved [2829436/2829436]\n",
      "\n",
      "--2024-01-25 11:46:19--  https://www.dropbox.com/scl/fi/qn7g3vrk5mqb18ko4e5in/lyft.pdf?rlkey=j6jxtjwo8zbstdo4wz3ns8zoj&dl=1\n",
      "Resolving www.dropbox.com (www.dropbox.com)... 162.125.13.18, 2620:100:6057:18::a27d:d12\n",
      "Connecting to www.dropbox.com (www.dropbox.com)|162.125.13.18|:443... connected.\n",
      "HTTP request sent, awaiting response... 302 Found\n",
      "Location: https://ucd904dd559e209cd6fb7e9d4905.dl.dropboxusercontent.com/cd/0/inline/CMBD8DJH-GDnJqaiy-uBAOHtueAGETGHEh25Qb9S6TfubKlgVuTEF9euKZsLVImH3jtBKsbqnTXZfjzi_Mn4Z4dP03nB6wAZC8caR8thVYGqeWMkn10y1efquWhH-8doH_g/file?dl=1# [following]\n",
      "--2024-01-25 11:46:19--  https://ucd904dd559e209cd6fb7e9d4905.dl.dropboxusercontent.com/cd/0/inline/CMBD8DJH-GDnJqaiy-uBAOHtueAGETGHEh25Qb9S6TfubKlgVuTEF9euKZsLVImH3jtBKsbqnTXZfjzi_Mn4Z4dP03nB6wAZC8caR8thVYGqeWMkn10y1efquWhH-8doH_g/file?dl=1\n",
      "Resolving ucd904dd559e209cd6fb7e9d4905.dl.dropboxusercontent.com (ucd904dd559e209cd6fb7e9d4905.dl.dropboxusercontent.com)... 162.125.13.15, 2620:100:6057:15::a27d:d0f\n",
      "Connecting to ucd904dd559e209cd6fb7e9d4905.dl.dropboxusercontent.com (ucd904dd559e209cd6fb7e9d4905.dl.dropboxusercontent.com)|162.125.13.15|:443... connected.\n",
      "HTTP request sent, awaiting response... 302 Found\n",
      "Location: /cd/0/inline2/CMBVT4oZKEzpvQYopM9ln6JOr-OsrUG_7vlJVKYzGd_utVRph86tbgrteV25djstXWl8y7JS2F7IdMYnn4xVVp7VZuCzzXyML7QNWWh_pb8gHwJh8IHXmK1jtUgGP7SBTUnsDJ60qICAiqzTaGlcmXrhkNXyXL3mg0maolsscLvBxPHiHBo4M49pI2s88P5z4mrmx-t2Gi1X0KVj8DgF8KlJDE9QjtjGZIm4uUoXkC7EhaBUMZxlbv1CU24bxFpyubt9lBZQOrpIP43C1GBF9oQr0U_X9oq5gbL5Qs0LdQnd7IreM84iqvikERkfaos7rlCWjnePUF3Y6IMUxDi1qyVqDFV7Gti-xrfFQVprhU1t3g/file?dl=1 [following]\n",
      "--2024-01-25 11:46:20--  https://ucd904dd559e209cd6fb7e9d4905.dl.dropboxusercontent.com/cd/0/inline2/CMBVT4oZKEzpvQYopM9ln6JOr-OsrUG_7vlJVKYzGd_utVRph86tbgrteV25djstXWl8y7JS2F7IdMYnn4xVVp7VZuCzzXyML7QNWWh_pb8gHwJh8IHXmK1jtUgGP7SBTUnsDJ60qICAiqzTaGlcmXrhkNXyXL3mg0maolsscLvBxPHiHBo4M49pI2s88P5z4mrmx-t2Gi1X0KVj8DgF8KlJDE9QjtjGZIm4uUoXkC7EhaBUMZxlbv1CU24bxFpyubt9lBZQOrpIP43C1GBF9oQr0U_X9oq5gbL5Qs0LdQnd7IreM84iqvikERkfaos7rlCWjnePUF3Y6IMUxDi1qyVqDFV7Gti-xrfFQVprhU1t3g/file?dl=1\n",
      "Reusing existing connection to ucd904dd559e209cd6fb7e9d4905.dl.dropboxusercontent.com:443.\n",
      "HTTP request sent, awaiting response... 200 OK\n",
      "Length: 3416577 (3.3M) [application/binary]\n",
      "Saving to: ‘data/10k-vFinal.pdf’\n",
      "\n",
      "data/10k-vFinal.pdf 100%[===================>]   3.26M  --.-KB/s    in 0.1s    \n",
      "\n",
      "2024-01-25 11:46:21 (31.0 MB/s) - ‘data/10k-vFinal.pdf’ saved [3416577/3416577]\n",
      "\n"
     ]
    }
   ],
   "source": [
    "!mkdir -p data\n",
    "!wget -O \"data/10k-132.pdf\" \"https://www.dropbox.com/scl/fi/6dlqdk6e2k1mjhi8dee5j/uber.pdf?rlkey=2jyoe49bg2vwdlz30l76czq6g&dl=1\"\n",
    "!wget -O \"data/10k-vFinal.pdf\" \"https://www.dropbox.com/scl/fi/qn7g3vrk5mqb18ko4e5in/lyft.pdf?rlkey=j6jxtjwo8zbstdo4wz3ns8zoj&dl=1\""
   ]
  },
  {
   "cell_type": "code",
   "execution_count": 7,
   "metadata": {},
   "outputs": [],
   "source": [
    "# Note the uninformative document file name, which may be a common scenario in a production setting\n",
    "uber_docs = SimpleDirectoryReader(input_files=[\"data/10k-132.pdf\"]).load_data()\n",
    "uber_front_pages = uber_docs[0:3]\n",
    "uber_content = uber_docs[63:69]\n",
    "uber_docs = uber_front_pages + uber_content\n"
   ]
  },
  {
   "cell_type": "code",
   "execution_count": 8,
   "metadata": {},
   "outputs": [
    {
     "data": {
      "text/plain": [
       "{'id_': '1109a751-48cc-4463-b608-6cc2edec1824',\n",
       " 'embedding': None,\n",
       " 'metadata': {'page_label': '1',\n",
       "  'file_name': '10k-132.pdf',\n",
       "  'file_path': 'data/10k-132.pdf',\n",
       "  'file_type': 'application/pdf',\n",
       "  'file_size': 2829436,\n",
       "  'creation_date': '2024-01-25',\n",
       "  'last_modified_date': '2024-01-25',\n",
       "  'last_accessed_date': '2024-01-23'},\n",
       " 'excluded_embed_metadata_keys': ['file_name',\n",
       "  'file_type',\n",
       "  'file_size',\n",
       "  'creation_date',\n",
       "  'last_modified_date',\n",
       "  'last_accessed_date'],\n",
       " 'excluded_llm_metadata_keys': ['file_name',\n",
       "  'file_type',\n",
       "  'file_size',\n",
       "  'creation_date',\n",
       "  'last_modified_date',\n",
       "  'last_accessed_date'],\n",
       " 'relationships': {},\n",
       " 'text': '2019\\nAnnual  \\nReport',\n",
       " 'start_char_idx': None,\n",
       " 'end_char_idx': None,\n",
       " 'text_template': '{metadata_str}\\n\\n{content}',\n",
       " 'metadata_template': '{key}: {value}',\n",
       " 'metadata_seperator': '\\n'}"
      ]
     },
     "execution_count": 8,
     "metadata": {},
     "output_type": "execute_result"
    }
   ],
   "source": [
    "uber_docs[0].__dict__"
   ]
  },
  {
   "cell_type": "markdown",
   "metadata": {},
   "source": []
  },
  {
   "cell_type": "code",
   "execution_count": 9,
   "metadata": {},
   "outputs": [
    {
     "name": "stderr",
     "output_type": "stream",
     "text": [
      "100%|██████████| 1/1 [00:01<00:00,  1.04s/it]\n",
      "100%|██████████| 1/1 [00:00<00:00,  2.22it/s]\n",
      "100%|██████████| 3/3 [00:01<00:00,  2.88it/s]\n",
      "100%|██████████| 1/1 [00:00<00:00,  1.22it/s]\n",
      "100%|██████████| 3/3 [00:00<00:00,  3.73it/s]\n",
      "100%|██████████| 3/3 [00:00<00:00,  4.65it/s]\n",
      "100%|██████████| 2/2 [00:00<00:00,  2.79it/s]\n",
      "100%|██████████| 3/3 [00:00<00:00,  5.05it/s]\n",
      "100%|██████████| 3/3 [00:00<00:00,  3.64it/s]\n",
      "100%|██████████| 20/20 [00:16<00:00,  1.18it/s]\n"
     ]
    }
   ],
   "source": [
    "from llama_index.ingestion import IngestionPipeline\n",
    "\n",
    "pipeline = IngestionPipeline(transformations=transformations)\n",
    "\n",
    "uber_nodes = pipeline.run(documents=uber_docs)"
   ]
  },
  {
   "cell_type": "code",
   "execution_count": 10,
   "metadata": {},
   "outputs": [
    {
     "data": {
      "text/plain": [
       "'\"Unveiling the Multifaceted Terrain of 2019: An All-Encompassing Annual Report\"'"
      ]
     },
     "execution_count": 10,
     "metadata": {},
     "output_type": "execute_result"
    }
   ],
   "source": [
    "uber_nodes[0].metadata[\"document_title\"]"
   ]
  },
  {
   "cell_type": "code",
   "execution_count": 11,
   "metadata": {},
   "outputs": [
    {
     "data": {
      "text/plain": [
       "'Form 10-K Annual Report for Uber Technologies, Inc. for the fiscal year ended December 31, 2019: Securities Act Filing Requirements, Company Classification, and Summary of Financial Information for an Emerging Growth Company.'"
      ]
     },
     "execution_count": 11,
     "metadata": {},
     "output_type": "execute_result"
    }
   ],
   "source": [
    "uber_nodes[2].metadata[\"document_title\"]"
   ]
  },
  {
   "cell_type": "code",
   "execution_count": 12,
   "metadata": {},
   "outputs": [],
   "source": [
    "# Note the uninformative document file name, which may be a common scenario in a production setting\n",
    "lyft_docs = SimpleDirectoryReader(\n",
    "    input_files=[\"data/10k-vFinal.pdf\"]\n",
    ").load_data()\n",
    "lyft_front_pages = lyft_docs[0:3]\n",
    "lyft_content = lyft_docs[68:73]\n",
    "lyft_docs = lyft_front_pages + lyft_content"
   ]
  },
  {
   "cell_type": "code",
   "execution_count": 13,
   "metadata": {},
   "outputs": [
    {
     "name": "stderr",
     "output_type": "stream",
     "text": [
      "  0%|          | 0/1 [00:00<?, ?it/s]"
     ]
    },
    {
     "name": "stderr",
     "output_type": "stream",
     "text": [
      "100%|██████████| 1/1 [00:00<00:00,  1.59it/s]\n",
      "100%|██████████| 3/3 [00:00<00:00,  3.03it/s]\n",
      "100%|██████████| 1/1 [00:00<00:00,  1.16it/s]\n",
      "100%|██████████| 2/2 [00:00<00:00,  4.92it/s]\n",
      "100%|██████████| 3/3 [00:00<00:00,  3.58it/s]\n",
      "100%|██████████| 3/3 [00:00<00:00,  3.67it/s]\n",
      "100%|██████████| 4/4 [00:00<00:00,  5.53it/s]\n",
      "100%|██████████| 3/3 [00:01<00:00,  2.92it/s]\n",
      "100%|██████████| 20/20 [00:11<00:00,  1.71it/s]\n"
     ]
    }
   ],
   "source": [
    "from llama_index.ingestion import IngestionPipeline\n",
    "\n",
    "pipeline = IngestionPipeline(transformations=transformations)\n",
    "\n",
    "lyft_nodes = pipeline.run(documents=lyft_docs)"
   ]
  },
  {
   "cell_type": "code",
   "execution_count": 14,
   "metadata": {},
   "outputs": [
    {
     "data": {
      "text/plain": [
       "{'page_label': '2',\n",
       " 'file_name': '10k-vFinal.pdf',\n",
       " 'file_path': 'data/10k-vFinal.pdf',\n",
       " 'file_type': 'application/pdf',\n",
       " 'file_size': 3416577,\n",
       " 'creation_date': '2024-01-25',\n",
       " 'last_modified_date': '2024-01-25',\n",
       " 'last_accessed_date': '2024-01-25',\n",
       " 'document_title': 'Lyft, Inc. Annual Report on Form 10-K for the Fiscal Year Ended December 31, 2020',\n",
       " 'questions_this_excerpt_can_answer': '1. Has Lyft, Inc. filed all the required reports under Section 13 or 15(d) of the Securities Exchange Act of 1934 in the past 12 months?\\n2. Has Lyft, Inc. submitted all the Interactive Data Files required under Rule 405 of Regulation S-T in the past 12 months?\\n3. Is Lyft, Inc. considered a large accelerated filer according to the definitions provided in Rule 12b-2 of the Exchange Act?'}"
      ]
     },
     "execution_count": 14,
     "metadata": {},
     "output_type": "execute_result"
    }
   ],
   "source": [
    "lyft_nodes[2].metadata\n"
   ]
  },
  {
   "cell_type": "code",
   "execution_count": 15,
   "metadata": {},
   "outputs": [],
   "source": [
    "from llama_index.question_gen.llm_generators import LLMQuestionGenerator\n",
    "from llama_index.question_gen.prompts import DEFAULT_SUB_QUESTION_PROMPT_TMPL\n",
    "\n",
    "service_context = ServiceContext.from_defaults(\n",
    "    llm=llm, text_splitter=text_splitter\n",
    ")\n",
    "question_gen = LLMQuestionGenerator.from_defaults(\n",
    "    service_context=service_context,\n",
    "    prompt_template_str=\"\"\"\n",
    "        Follow the example, but instead of giving a question, always prefix the question \n",
    "        with: 'By first identifying and quoting the most relevant sources, '. \n",
    "        \"\"\"\n",
    "    + DEFAULT_SUB_QUESTION_PROMPT_TMPL,\n",
    ")"
   ]
  },
  {
   "cell_type": "code",
   "execution_count": 16,
   "metadata": {},
   "outputs": [
    {
     "name": "stdout",
     "output_type": "stream",
     "text": [
      "LLM sees:\n",
      " [Excerpt from document]\n",
      "page_label: 66\n",
      "Excerpt:\n",
      "-----\n",
      "62 2019 Compared to 2018 \n",
      "Adjusted EBITDA loss increased $878 million, or 48%, primar ily attributable to continued investments within our non-\n",
      "Rides offerings and an increase in corpor ate overhead as we grow the business. Th ese investments drove an increase in our \n",
      "Adjusted EBITDA loss margin as a percentage of  Adjusted Net Revenue of (3)% to (21)%. \n",
      "Components of Results of Operations \n",
      "The following discussion on trends in our components of results of operations excludes IPO related impacts as well \n",
      "as the Driver appreciation award of $299 million, both of which occurred during the second quarter of 2019. The Driver \n",
      "appreciation award was accounted for as a Driver incentive.  For additional information about our IPO, see Note 1 - \n",
      "Description of Business and Summary of Significant Accoun ting Policies to our consolidated financial statements \n",
      "included in Part II, Item 8, “Financial  Statements and Supplementary Data”, of  this Annual Report on Form 10-K. \n",
      "Revenue We generate substantially all of our revenue from fees paid by Drivers and Restaurants for use of our platform. We \n",
      "have concluded that we are an agent in these arrangements as we arrange for other parties to provide the service to the end-\n",
      "user. Under this model, revenue is net of Driver and Restau rant earnings and Driver incentives. We act as an agent in \n",
      "these transactions by connecting consumer s to Drivers and Restaurants to facilita te a Trip or meal delivery service. \n",
      "For additional discussion related to our revenue, see the section titled “Management’s Discussion and Analysis of \n",
      "Financial Condition and Results of Operations - Critical Accounting Policies and Estimates - Revenue Recognition,” \n",
      "Note 1 - Description of Business and Summary of Significant Accounting Policies - Revenue Recognition, and Note 2 - \n",
      "Revenue to our consolidated financial stat ements included in Part II, Item 8, “Financial Statements and Supplementary \n",
      "Data”, of this Annual Report on Form 10-K. \n",
      "Cost of Revenue, Exclusive of  Depreciation and Amortization \n",
      "Cost of revenue, exclusive of depreciation and amortization, consists primarily of insurance costs, credit card \n",
      "processing fees, hosting and co-located data center expenses, mobile device and service expenses, amounts related to fare \n",
      "chargebacks and other credit card losses,  excess Driver incentives, and costs incurred with carriers for Freight \n",
      "transportation. Insurance expenses include coverage for auto liability, general liability,\n",
      "-----\n"
     ]
    }
   ],
   "source": [
    "from copy import deepcopy\n",
    "\n",
    "nodes_no_metadata = deepcopy(uber_nodes) + deepcopy(lyft_nodes)\n",
    "for node in nodes_no_metadata:\n",
    "    node.metadata = {\n",
    "        k: node.metadata[k]\n",
    "        for k in node.metadata\n",
    "        if k in [\"page_label\", \"file_name\"]\n",
    "    }\n",
    "print(\n",
    "    \"LLM sees:\\n\",\n",
    "    (nodes_no_metadata)[9].get_content(metadata_mode=MetadataMode.LLM),\n",
    ")"
   ]
  },
  {
   "cell_type": "code",
   "execution_count": 17,
   "metadata": {},
   "outputs": [],
   "source": [
    "from llama_index import VectorStoreIndex\n",
    "from llama_index.query_engine import SubQuestionQueryEngine\n",
    "from llama_index.tools import QueryEngineTool, ToolMetadata"
   ]
  },
  {
   "cell_type": "code",
   "execution_count": 18,
   "metadata": {},
   "outputs": [],
   "source": [
    "index_no_metadata = VectorStoreIndex(\n",
    "    nodes=nodes_no_metadata,\n",
    "    service_context=ServiceContext.from_defaults(llm=OpenAI(model=\"gpt-4\")),\n",
    ")\n",
    "engine_no_metadata = index_no_metadata.as_query_engine(\n",
    "    similarity_top_k=10,\n",
    ")"
   ]
  },
  {
   "cell_type": "code",
   "execution_count": 19,
   "metadata": {},
   "outputs": [],
   "source": [
    "final_engine_no_metadata = SubQuestionQueryEngine.from_defaults(\n",
    "    query_engine_tools=[\n",
    "        QueryEngineTool(\n",
    "            query_engine=engine_no_metadata,\n",
    "            metadata=ToolMetadata(\n",
    "                name=\"sec_filing_documents\",\n",
    "                description=\"financial information on companies\",\n",
    "            ),\n",
    "        )\n",
    "    ],\n",
    "    question_gen=question_gen,\n",
    "    use_async=True,\n",
    ")\n"
   ]
  },
  {
   "cell_type": "code",
   "execution_count": 20,
   "metadata": {},
   "outputs": [
    {
     "name": "stdout",
     "output_type": "stream",
     "text": [
      "Generated 4 sub questions.\n",
      "\u001b[1;3;38;2;237;90;200m[sec_filing_documents] Q: What was the cost due to research and development for Uber in 2019 in millions of USD\n",
      "\u001b[0m\u001b[1;3;38;2;90;149;237m[sec_filing_documents] Q: What was the cost due to sales and marketing for Uber in 2019 in millions of USD\n",
      "\u001b[0m\u001b[1;3;38;2;11;159;203m[sec_filing_documents] Q: What was the cost due to research and development for Lyft in 2019 in millions of USD\n",
      "\u001b[0m\u001b[1;3;38;2;155;135;227m[sec_filing_documents] Q: What was the cost due to sales and marketing for Lyft in 2019 in millions of USD\n",
      "\u001b[0m\u001b[1;3;38;2;90;149;237m[sec_filing_documents] A: The cost due to sales and marketing for Uber in 2019 was $4,626 million.\n",
      "\u001b[0m\u001b[1;3;38;2;155;135;227m[sec_filing_documents] A: The cost due to sales and marketing for Lyft in 2019 was $814.122 million.\n",
      "\u001b[0m\u001b[1;3;38;2;237;90;200m[sec_filing_documents] A: The cost due to research and development for Uber in 2019 was $1,505,640 in thousands, which is equivalent to $1,505.64 million.\n",
      "\u001b[0m\u001b[1;3;38;2;11;159;203m[sec_filing_documents] A: The cost due to research and development for Lyft in 2019 was $1,505,640 in thousands, which is equivalent to $1,505.64 million.\n",
      "\u001b[0m{\n",
      "  \"Uber\": {\n",
      "    \"Research and Development\": 1505.64,\n",
      "    \"Sales and Marketing\": 4626\n",
      "  },\n",
      "  \"Lyft\": {\n",
      "    \"Research and Development\": 1505.64,\n",
      "    \"Sales and Marketing\": 814.122\n",
      "  }\n",
      "}\n"
     ]
    }
   ],
   "source": [
    "from llama_index import QueryBundle\n",
    "\n",
    "response_no_metadata = final_engine_no_metadata.query(\n",
    "    \"\"\"\n",
    "    What was the cost due to research and development v.s. sales and marketing for uber and lyft in 2019 in millions of USD?\n",
    "    Give your answer as a JSON.\n",
    "    \"\"\"\n",
    ")\n",
    "print(response_no_metadata.response)"
   ]
  },
  {
   "cell_type": "code",
   "execution_count": 21,
   "metadata": {},
   "outputs": [
    {
     "name": "stdout",
     "output_type": "stream",
     "text": [
      "LLM sees:\n",
      " [Excerpt from document]\n",
      "page_label: 66\n",
      "file_path: data/10k-132.pdf\n",
      "document_title: Financial Performance, Revenue Generation, Cost of Revenue, and Operations and Support Expenses in the Annual Report on Form 10-K: Entities and Themes.\n",
      "questions_this_excerpt_can_answer: 1. What were the factors that contributed to the increase in Adjusted EBITDA loss in 2019 compared to 2018?\n",
      "2. How does the company generate its revenue and what is its revenue recognition policy?\n",
      "3. What are the components included in the cost of revenue, exclusive of depreciation and amortization, for the company?\n",
      "Excerpt:\n",
      "-----\n",
      "62 2019 Compared to 2018 \n",
      "Adjusted EBITDA loss increased $878 million, or 48%, primar ily attributable to continued investments within our non-\n",
      "Rides offerings and an increase in corpor ate overhead as we grow the business. Th ese investments drove an increase in our \n",
      "Adjusted EBITDA loss margin as a percentage of  Adjusted Net Revenue of (3)% to (21)%. \n",
      "Components of Results of Operations \n",
      "The following discussion on trends in our components of results of operations excludes IPO related impacts as well \n",
      "as the Driver appreciation award of $299 million, both of which occurred during the second quarter of 2019. The Driver \n",
      "appreciation award was accounted for as a Driver incentive.  For additional information about our IPO, see Note 1 - \n",
      "Description of Business and Summary of Significant Accoun ting Policies to our consolidated financial statements \n",
      "included in Part II, Item 8, “Financial  Statements and Supplementary Data”, of  this Annual Report on Form 10-K. \n",
      "Revenue We generate substantially all of our revenue from fees paid by Drivers and Restaurants for use of our platform. We \n",
      "have concluded that we are an agent in these arrangements as we arrange for other parties to provide the service to the end-\n",
      "user. Under this model, revenue is net of Driver and Restau rant earnings and Driver incentives. We act as an agent in \n",
      "these transactions by connecting consumer s to Drivers and Restaurants to facilita te a Trip or meal delivery service. \n",
      "For additional discussion related to our revenue, see the section titled “Management’s Discussion and Analysis of \n",
      "Financial Condition and Results of Operations - Critical Accounting Policies and Estimates - Revenue Recognition,” \n",
      "Note 1 - Description of Business and Summary of Significant Accounting Policies - Revenue Recognition, and Note 2 - \n",
      "Revenue to our consolidated financial stat ements included in Part II, Item 8, “Financial Statements and Supplementary \n",
      "Data”, of this Annual Report on Form 10-K. \n",
      "Cost of Revenue, Exclusive of  Depreciation and Amortization \n",
      "Cost of revenue, exclusive of depreciation and amortization, consists primarily of insurance costs, credit card \n",
      "processing fees, hosting and co-located data center expenses, mobile device and service expenses, amounts related to fare \n",
      "chargebacks and other credit card losses,  excess Driver incentives, and costs incurred with carriers for Freight \n",
      "transportation. Insurance expenses include coverage for auto liability, general liability,\n",
      "-----\n"
     ]
    }
   ],
   "source": [
    "print(\n",
    "    \"LLM sees:\\n\",\n",
    "    (uber_nodes + lyft_nodes)[9].get_content(metadata_mode=MetadataMode.LLM),\n",
    ")"
   ]
  },
  {
   "cell_type": "code",
   "execution_count": 22,
   "metadata": {},
   "outputs": [],
   "source": [
    "index = VectorStoreIndex(\n",
    "    nodes=uber_nodes + lyft_nodes,\n",
    "    service_context=ServiceContext.from_defaults(llm=OpenAI(model=\"gpt-4\")),\n",
    ")\n",
    "engine = index.as_query_engine(\n",
    "    similarity_top_k=10,\n",
    ")"
   ]
  },
  {
   "cell_type": "code",
   "execution_count": 23,
   "metadata": {},
   "outputs": [],
   "source": [
    "final_engine = SubQuestionQueryEngine.from_defaults(\n",
    "    query_engine_tools=[\n",
    "        QueryEngineTool(\n",
    "            query_engine=engine,\n",
    "            metadata=ToolMetadata(\n",
    "                name=\"sec_filing_documents\",\n",
    "                description=\"financial information on companies.\",\n",
    "            ),\n",
    "        )\n",
    "    ],\n",
    "    question_gen=question_gen,\n",
    "    use_async=True,\n",
    ")"
   ]
  },
  {
   "cell_type": "code",
   "execution_count": 24,
   "metadata": {},
   "outputs": [
    {
     "name": "stdout",
     "output_type": "stream",
     "text": [
      "Generated 4 sub questions.\n",
      "\u001b[1;3;38;2;237;90;200m[sec_filing_documents] Q: What was the cost due to research and development for Uber in 2019 in millions of USD\n",
      "\u001b[0m\u001b[1;3;38;2;90;149;237m[sec_filing_documents] Q: What was the cost due to sales and marketing for Uber in 2019 in millions of USD\n",
      "\u001b[0m\u001b[1;3;38;2;11;159;203m[sec_filing_documents] Q: What was the cost due to research and development for Lyft in 2019 in millions of USD\n",
      "\u001b[0m\u001b[1;3;38;2;155;135;227m[sec_filing_documents] Q: What was the cost due to sales and marketing for Lyft in 2019 in millions of USD\n",
      "\u001b[0m\u001b[1;3;38;2;90;149;237m[sec_filing_documents] A: The cost due to sales and marketing for Uber in 2019 was $814,122 thousand, which is equivalent to $814.122 million.\n",
      "\u001b[0m\u001b[1;3;38;2;11;159;203m[sec_filing_documents] A: The cost due to research and development for Lyft in 2019 was $1,505 million.\n",
      "\u001b[0m\u001b[1;3;38;2;237;90;200m[sec_filing_documents] A: The cost due to research and development for Uber in 2019 was $4,836 million.\n",
      "\u001b[0m\u001b[1;3;38;2;155;135;227m[sec_filing_documents] A: The cost due to sales and marketing for Lyft in 2019 was $814,122 in thousands, which is equivalent to $814.122 million.\n",
      "\u001b[0m{\n",
      "  \"Uber\": {\n",
      "    \"Research and Development\": 4836,\n",
      "    \"Sales and Marketing\": 814.122\n",
      "  },\n",
      "  \"Lyft\": {\n",
      "    \"Research and Development\": 1505,\n",
      "    \"Sales and Marketing\": 814.122\n",
      "  }\n",
      "}\n"
     ]
    }
   ],
   "source": [
    "response = final_engine.query(\n",
    "    \"\"\"\n",
    "    What was the cost due to research and development v.s. sales and marketing for uber and lyft in 2019 in millions of USD?\n",
    "    Give your answer as a JSON.\n",
    "    \"\"\"\n",
    ")\n",
    "print(response.response)\n",
    "# Correct answer:\n",
    "# {\"Uber\": {\"Research and Development\": 4836, \"Sales and Marketing\": 4626},\n",
    "#  \"Lyft\": {\"Research and Development\": 1505.6, \"Sales and Marketing\": 814 }}"
   ]
  },
  {
   "cell_type": "code",
   "execution_count": null,
   "metadata": {},
   "outputs": [],
   "source": []
  }
 ],
 "metadata": {
  "kernelspec": {
   "display_name": "llama",
   "language": "python",
   "name": "python3"
  },
  "language_info": {
   "codemirror_mode": {
    "name": "ipython",
    "version": 3
   },
   "file_extension": ".py",
   "mimetype": "text/x-python",
   "name": "python",
   "nbconvert_exporter": "python",
   "pygments_lexer": "ipython3",
   "version": "3.11.7"
  }
 },
 "nbformat": 4,
 "nbformat_minor": 2
}
